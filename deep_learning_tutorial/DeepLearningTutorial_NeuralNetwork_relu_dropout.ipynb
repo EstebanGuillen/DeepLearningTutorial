{
  "nbformat": 4,
  "nbformat_minor": 0,
  "metadata": {
    "colab": {
      "name": "DeepLearningTutorial_NeuralNetwork_relu_dropout.ipynb",
      "version": "0.3.2",
      "views": {},
      "default_view": {},
      "provenance": []
    },
    "kernelspec": {
      "name": "python3",
      "display_name": "Python 3"
    },
    "accelerator": "GPU"
  },
  "cells": [
    {
      "metadata": {
        "id": "mVrW3yKAIccE",
        "colab_type": "code",
        "colab": {
          "autoexec": {
            "startup": false,
            "wait_interval": 0
          },
          "base_uri": "https://localhost:8080/",
          "height": 85
        },
        "outputId": "acd2bf6b-de88-4096-b028-ecf2f6502617",
        "executionInfo": {
          "status": "ok",
          "timestamp": 1524083297754,
          "user_tz": 360,
          "elapsed": 2591,
          "user": {
            "displayName": "Esteban Guillen",
            "photoUrl": "https://lh3.googleusercontent.com/a/default-user=s128",
            "userId": "106714419202511485831"
          }
        }
      },
      "cell_type": "code",
      "source": [
        "from __future__ import print_function\n",
        "\n",
        "# Import MNIST data\n",
        "from tensorflow.examples.tutorials.mnist import input_data\n",
        "mnist = input_data.read_data_sets(\"/tmp/data/\", one_hot=True)\n",
        "\n",
        "import tensorflow as tf\n",
        "import matplotlib.pyplot as plt "
      ],
      "execution_count": 1,
      "outputs": [
        {
          "output_type": "stream",
          "text": [
            "Extracting /tmp/data/train-images-idx3-ubyte.gz\n",
            "Extracting /tmp/data/train-labels-idx1-ubyte.gz\n",
            "Extracting /tmp/data/t10k-images-idx3-ubyte.gz\n",
            "Extracting /tmp/data/t10k-labels-idx1-ubyte.gz\n"
          ],
          "name": "stdout"
        }
      ]
    },
    {
      "metadata": {
        "id": "Fwzht6f9JWvD",
        "colab_type": "code",
        "colab": {
          "autoexec": {
            "startup": false,
            "wait_interval": 0
          }
        }
      },
      "cell_type": "code",
      "source": [
        "learning_rate = 0.001\n",
        "training_epochs = 20\n",
        "batch_size = 100"
      ],
      "execution_count": 0,
      "outputs": []
    },
    {
      "metadata": {
        "id": "BNTGL4qwJaHT",
        "colab_type": "code",
        "colab": {
          "autoexec": {
            "startup": false,
            "wait_interval": 0
          }
        }
      },
      "cell_type": "code",
      "source": [
        "# input X: 28x28 grayscale images, the first dimension (None) will index the images in the mini-batch\n",
        "#X = tf.placeholder(tf.float32, [None, 28, 28, 1])\n",
        "X = tf.placeholder(tf.float32, [None, 784]) \n",
        "# correct answers will go here\n",
        "Y_ = tf.placeholder(tf.float32, [None, 10])\n",
        "\n",
        "# Probability of keeping a node during dropout = 1.0 at test time (no dropout) and 0.75 at training time\n",
        "pkeep = tf.placeholder(tf.float32)"
      ],
      "execution_count": 0,
      "outputs": []
    },
    {
      "metadata": {
        "id": "MGo1-bIpJc7V",
        "colab_type": "code",
        "colab": {
          "autoexec": {
            "startup": false,
            "wait_interval": 0
          }
        }
      },
      "cell_type": "code",
      "source": [
        "# five layers and their number of neurons (tha last layer has 10 softmax neurons)\n",
        "L = 100\n",
        "M = 100\n",
        "N = 100\n",
        "O = 100\n",
        "\n",
        "\n",
        "# Weights initialised with small random values between -0.2 and +0.2\n",
        "# When using RELUs, make sure biases are initialised with small *positive* values for example 0.1 = tf.ones([K])/10\n",
        "W1 = tf.Variable(tf.truncated_normal([784, L], stddev=0.1))  # 784 = 28 * 28\n",
        "B1 = tf.Variable(tf.zeros([L]))\n",
        "W2 = tf.Variable(tf.truncated_normal([L, M], stddev=0.1))\n",
        "B2 = tf.Variable(tf.zeros([M]))\n",
        "W3 = tf.Variable(tf.truncated_normal([M, N], stddev=0.1))\n",
        "B3 = tf.Variable(tf.zeros([N]))\n",
        "W4 = tf.Variable(tf.truncated_normal([N, O], stddev=0.1))\n",
        "B4 = tf.Variable(tf.zeros([O]))\n",
        "W5 = tf.Variable(tf.truncated_normal([O, 10], stddev=0.1))\n",
        "B5 = tf.Variable(tf.zeros([10]))\n",
        "\n",
        "#The model with dropout \n",
        "Y1 = tf.nn.relu(tf.matmul(X, W1) + B1)\n",
        "Y1d = tf.nn.dropout(Y1, pkeep)\n",
        "\n",
        "Y2 = tf.nn.relu(tf.matmul(Y1d, W2) + B2)\n",
        "Y2d = tf.nn.dropout(Y2, pkeep)\n",
        "\n",
        "Y3 = tf.nn.relu(tf.matmul(Y2d, W3) + B3)\n",
        "Y3d = tf.nn.dropout(Y3, pkeep)\n",
        "\n",
        "Y4 = tf.nn.relu(tf.matmul(Y3d, W4) + B4)\n",
        "Y4d = tf.nn.dropout(Y4, pkeep)\n",
        "\n",
        "Ylogits = tf.matmul(Y4, W5) + B5\n",
        "Y = tf.nn.softmax(Ylogits)\n",
        "\n"
      ],
      "execution_count": 0,
      "outputs": []
    },
    {
      "metadata": {
        "id": "ZDg1jWB9JgHm",
        "colab_type": "code",
        "colab": {
          "autoexec": {
            "startup": false,
            "wait_interval": 0
          }
        }
      },
      "cell_type": "code",
      "source": [
        "\n",
        "loss = tf.nn.softmax_cross_entropy_with_logits_v2(logits=Ylogits, labels=Y_)\n",
        "loss = tf.reduce_mean(loss)*100\n",
        "\n",
        "optimizer = tf.train.AdamOptimizer(learning_rate)\n",
        "\n",
        "train_step = optimizer.minimize(loss)\n",
        "\n",
        "init = tf.global_variables_initializer()\n",
        "\n",
        "correct_prediction = tf.equal(tf.argmax(Y,1), tf.argmax(Y_,1))\n",
        "accuracy = tf.reduce_mean(tf.cast(correct_prediction, tf.float32))"
      ],
      "execution_count": 0,
      "outputs": []
    },
    {
      "metadata": {
        "id": "6gBVT19aJjsN",
        "colab_type": "code",
        "colab": {
          "autoexec": {
            "startup": false,
            "wait_interval": 0
          },
          "base_uri": "https://localhost:8080/",
          "height": 623
        },
        "outputId": "68f147b9-7b83-466e-9930-d225aa52cbc7",
        "executionInfo": {
          "status": "error",
          "timestamp": 1524083344402,
          "user_tz": 360,
          "elapsed": 720,
          "user": {
            "displayName": "Esteban Guillen",
            "photoUrl": "https://lh3.googleusercontent.com/a/default-user=s128",
            "userId": "106714419202511485831"
          }
        }
      },
      "cell_type": "code",
      "source": [
        "print(\"\\n\")\n",
        "\n",
        "display_step = 10\n",
        "n_iterations = []  \n",
        "n_loss = []\n",
        "n_loss_test = []\n",
        "n_train_accuracy = []\n",
        "n_test_accuracy = []\n",
        "\n",
        "with tf.Session() as sess:\n",
        "\n",
        "    \n",
        "    sess.run(init)\n",
        "\n",
        "    total_steps = 0;\n",
        "    for epoch in range(training_epochs):\n",
        "        avg_cost = 0.\n",
        "        avg_accuracy = 0.\n",
        "        avg_accuracy_test = 0.0\n",
        "        total_batch = int(mnist.train.num_examples/batch_size)\n",
        "        \n",
        "        for i in range(total_batch):\n",
        "            total_steps = total_steps +1\n",
        "            batch_xs, batch_ys = mnist.train.next_batch(batch_size)\n",
        "            \n",
        "            #Train\n",
        "            sess.run(train_step, feed_dict={X: batch_xs, Y_: batch_ys, pkeep: 0.75})\n",
        "           \n",
        "            #Evaluate\n",
        "            train_accuracy, c = sess.run([accuracy,loss],feed_dict={X: batch_xs, Y_: batch_ys, pkeep: 1.0})\n",
        "            test_accuracy, c_test = sess.run([accuracy,loss],feed_dict={X: mnist.test.images, Y_: mnist.test.labels, pkeep: 1.0})\n",
        "          \n",
        "            avg_cost += c / total_batch\n",
        "            avg_accuracy += train_accuracy /total_batch\n",
        "            avg_accuracy_test += test_accuracy /total_batch\n",
        "            \n",
        "            n_iterations.append(total_steps)\n",
        "            n_loss.append(c)\n",
        "            n_loss_test.append(c_test)\n",
        "            n_train_accuracy.append(train_accuracy)\n",
        "            n_test_accuracy.append(test_accuracy)\n",
        "        \n",
        "        \n",
        "        if (epoch+1) % display_step == 0 or epoch == 0:\n",
        "            print(\"Epoch:\", '%04d' % (epoch+1), \" Cost=\", \"{:.9f}\".format(avg_cost), \" Train_Accuracy=\", \"{:.9f}\".format(avg_accuracy),\" Test_Accuracy=\", \"{:.9f}\".format(avg_accuracy_test))\n",
        "            \n",
        "\n",
        "    print(\"Training Finished!\")\n",
        "\n",
        "    \n",
        "    \n",
        "    final_test_accuracy = sess.run(accuracy,feed_dict={X: mnist.test.images, Y_: mnist.test.labels, pkeep: 1.0})\n",
        "    print(\"\\nTest_Accuracy:\", final_test_accuracy)"
      ],
      "execution_count": 7,
      "outputs": [
        {
          "output_type": "stream",
          "text": [
            "\n",
            "\n"
          ],
          "name": "stdout"
        },
        {
          "output_type": "error",
          "ename": "InternalError",
          "evalue": "ignored",
          "traceback": [
            "\u001b[0;31m---------------------------------------------------------------------------\u001b[0m",
            "\u001b[0;31mInternalError\u001b[0m                             Traceback (most recent call last)",
            "\u001b[0;32m<ipython-input-7-7000c9ca0e7b>\u001b[0m in \u001b[0;36m<module>\u001b[0;34m()\u001b[0m\n\u001b[1;32m      8\u001b[0m \u001b[0mn_test_accuracy\u001b[0m \u001b[0;34m=\u001b[0m \u001b[0;34m[\u001b[0m\u001b[0;34m]\u001b[0m\u001b[0;34m\u001b[0m\u001b[0m\n\u001b[1;32m      9\u001b[0m \u001b[0;34m\u001b[0m\u001b[0m\n\u001b[0;32m---> 10\u001b[0;31m \u001b[0;32mwith\u001b[0m \u001b[0mtf\u001b[0m\u001b[0;34m.\u001b[0m\u001b[0mSession\u001b[0m\u001b[0;34m(\u001b[0m\u001b[0;34m)\u001b[0m \u001b[0;32mas\u001b[0m \u001b[0msess\u001b[0m\u001b[0;34m:\u001b[0m\u001b[0;34m\u001b[0m\u001b[0m\n\u001b[0m\u001b[1;32m     11\u001b[0m \u001b[0;34m\u001b[0m\u001b[0m\n\u001b[1;32m     12\u001b[0m \u001b[0;34m\u001b[0m\u001b[0m\n",
            "\u001b[0;32m/usr/local/lib/python3.6/dist-packages/tensorflow/python/client/session.py\u001b[0m in \u001b[0;36m__init__\u001b[0;34m(self, target, graph, config)\u001b[0m\n\u001b[1;32m   1520\u001b[0m \u001b[0;34m\u001b[0m\u001b[0m\n\u001b[1;32m   1521\u001b[0m     \"\"\"\n\u001b[0;32m-> 1522\u001b[0;31m     \u001b[0msuper\u001b[0m\u001b[0;34m(\u001b[0m\u001b[0mSession\u001b[0m\u001b[0;34m,\u001b[0m \u001b[0mself\u001b[0m\u001b[0;34m)\u001b[0m\u001b[0;34m.\u001b[0m\u001b[0m__init__\u001b[0m\u001b[0;34m(\u001b[0m\u001b[0mtarget\u001b[0m\u001b[0;34m,\u001b[0m \u001b[0mgraph\u001b[0m\u001b[0;34m,\u001b[0m \u001b[0mconfig\u001b[0m\u001b[0;34m=\u001b[0m\u001b[0mconfig\u001b[0m\u001b[0;34m)\u001b[0m\u001b[0;34m\u001b[0m\u001b[0m\n\u001b[0m\u001b[1;32m   1523\u001b[0m     \u001b[0;31m# NOTE(mrry): Create these on first `__enter__` to avoid a reference cycle.\u001b[0m\u001b[0;34m\u001b[0m\u001b[0;34m\u001b[0m\u001b[0m\n\u001b[1;32m   1524\u001b[0m     \u001b[0mself\u001b[0m\u001b[0;34m.\u001b[0m\u001b[0m_default_graph_context_manager\u001b[0m \u001b[0;34m=\u001b[0m \u001b[0;32mNone\u001b[0m\u001b[0;34m\u001b[0m\u001b[0m\n",
            "\u001b[0;32m/usr/local/lib/python3.6/dist-packages/tensorflow/python/client/session.py\u001b[0m in \u001b[0;36m__init__\u001b[0;34m(self, target, graph, config)\u001b[0m\n\u001b[1;32m    636\u001b[0m           \u001b[0;31m# pylint: enable=protected-access\u001b[0m\u001b[0;34m\u001b[0m\u001b[0;34m\u001b[0m\u001b[0m\n\u001b[1;32m    637\u001b[0m         \u001b[0;32melse\u001b[0m\u001b[0;34m:\u001b[0m\u001b[0;34m\u001b[0m\u001b[0m\n\u001b[0;32m--> 638\u001b[0;31m           \u001b[0mself\u001b[0m\u001b[0;34m.\u001b[0m\u001b[0m_session\u001b[0m \u001b[0;34m=\u001b[0m \u001b[0mtf_session\u001b[0m\u001b[0;34m.\u001b[0m\u001b[0mTF_NewDeprecatedSession\u001b[0m\u001b[0;34m(\u001b[0m\u001b[0mopts\u001b[0m\u001b[0;34m,\u001b[0m \u001b[0mstatus\u001b[0m\u001b[0;34m)\u001b[0m\u001b[0;34m\u001b[0m\u001b[0m\n\u001b[0m\u001b[1;32m    639\u001b[0m     \u001b[0;32mfinally\u001b[0m\u001b[0;34m:\u001b[0m\u001b[0;34m\u001b[0m\u001b[0m\n\u001b[1;32m    640\u001b[0m       \u001b[0mtf_session\u001b[0m\u001b[0;34m.\u001b[0m\u001b[0mTF_DeleteSessionOptions\u001b[0m\u001b[0;34m(\u001b[0m\u001b[0mopts\u001b[0m\u001b[0;34m)\u001b[0m\u001b[0;34m\u001b[0m\u001b[0m\n",
            "\u001b[0;32m/usr/local/lib/python3.6/dist-packages/tensorflow/python/framework/errors_impl.py\u001b[0m in \u001b[0;36m__exit__\u001b[0;34m(self, type_arg, value_arg, traceback_arg)\u001b[0m\n\u001b[1;32m    514\u001b[0m             \u001b[0;32mNone\u001b[0m\u001b[0;34m,\u001b[0m \u001b[0;32mNone\u001b[0m\u001b[0;34m,\u001b[0m\u001b[0;34m\u001b[0m\u001b[0m\n\u001b[1;32m    515\u001b[0m             \u001b[0mcompat\u001b[0m\u001b[0;34m.\u001b[0m\u001b[0mas_text\u001b[0m\u001b[0;34m(\u001b[0m\u001b[0mc_api\u001b[0m\u001b[0;34m.\u001b[0m\u001b[0mTF_Message\u001b[0m\u001b[0;34m(\u001b[0m\u001b[0mself\u001b[0m\u001b[0;34m.\u001b[0m\u001b[0mstatus\u001b[0m\u001b[0;34m.\u001b[0m\u001b[0mstatus\u001b[0m\u001b[0;34m)\u001b[0m\u001b[0;34m)\u001b[0m\u001b[0;34m,\u001b[0m\u001b[0;34m\u001b[0m\u001b[0m\n\u001b[0;32m--> 516\u001b[0;31m             c_api.TF_GetCode(self.status.status))\n\u001b[0m\u001b[1;32m    517\u001b[0m     \u001b[0;31m# Delete the underlying status object from memory otherwise it stays alive\u001b[0m\u001b[0;34m\u001b[0m\u001b[0;34m\u001b[0m\u001b[0m\n\u001b[1;32m    518\u001b[0m     \u001b[0;31m# as there is a reference to status from this from the traceback due to\u001b[0m\u001b[0;34m\u001b[0m\u001b[0;34m\u001b[0m\u001b[0m\n",
            "\u001b[0;31mInternalError\u001b[0m: Failed to create session."
          ]
        }
      ]
    },
    {
      "metadata": {
        "id": "OjsTGIwLJnew",
        "colab_type": "code",
        "colab": {
          "autoexec": {
            "startup": false,
            "wait_interval": 0
          },
          "base_uri": "https://localhost:8080/",
          "height": 361
        },
        "outputId": "13885cbd-19c9-4153-afad-67ab203b136f",
        "executionInfo": {
          "status": "ok",
          "timestamp": 1524035838222,
          "user_tz": 360,
          "elapsed": 481,
          "user": {
            "displayName": "Esteban Guillen",
            "photoUrl": "https://lh3.googleusercontent.com/a/default-user=s128",
            "userId": "106714419202511485831"
          }
        }
      },
      "cell_type": "code",
      "source": [
        "plt.plot(n_iterations,n_loss, label='Train Cost')\n",
        "plt.plot(n_iterations,n_loss_test, label='Test Cost')\n",
        "plt.ylabel('Loss')\n",
        "plt.xlabel('Iterations')\n",
        "plt.show()"
      ],
      "execution_count": 0,
      "outputs": [
        {
          "output_type": "display_data",
          "data": {
            "image/png": "[encoded data removed]",
            "text/plain": [
              "<matplotlib.figure.Figure at 0x7ff97d842128>"
            ]
          },
          "metadata": {
            "tags": []
          }
        }
      ]
    },
    {
      "metadata": {
        "id": "WcicjObHJqEb",
        "colab_type": "code",
        "colab": {
          "autoexec": {
            "startup": false,
            "wait_interval": 0
          },
          "base_uri": "https://localhost:8080/",
          "height": 361
        },
        "outputId": "98f8293f-4dcd-4a56-fd48-16b279dcc1fe",
        "executionInfo": {
          "status": "ok",
          "timestamp": 1524035845014,
          "user_tz": 360,
          "elapsed": 508,
          "user": {
            "displayName": "Esteban Guillen",
            "photoUrl": "https://lh3.googleusercontent.com/a/default-user=s128",
            "userId": "106714419202511485831"
          }
        }
      },
      "cell_type": "code",
      "source": [
        "plt.plot(n_iterations,n_train_accuracy, label='Train Accuracy')\n",
        "plt.plot(n_iterations,n_test_accuracy, label='Test Accuracy')\n",
        "plt.ylabel('Accuracy')\n",
        "plt.xlabel('Iterations')\n",
        "plt.legend()\n",
        "plt.show()"
      ],
      "execution_count": 0,
      "outputs": [
        {
          "output_type": "display_data",
          "data": {
            "image/png": "[encoded data removed]",
            "text/plain": [
              "<matplotlib.figure.Figure at 0x7ff97dc4e630>"
            ]
          },
          "metadata": {
            "tags": []
          }
        }
      ]
    },
    {
      "metadata": {
        "id": "aVLMbP8E2koD",
        "colab_type": "code",
        "colab": {
          "autoexec": {
            "startup": false,
            "wait_interval": 0
          }
        }
      },
      "cell_type": "code",
      "source": [
        ""
      ],
      "execution_count": 0,
      "outputs": []
    }
  ]
}