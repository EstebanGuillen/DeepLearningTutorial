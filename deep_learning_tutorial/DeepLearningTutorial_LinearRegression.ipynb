{
  "nbformat": 4,
  "nbformat_minor": 0,
  "metadata": {
    "colab": {
      "name": "DeepLearningTutorial_LinearRegression.ipynb",
      "version": "0.3.2",
      "views": {},
      "default_view": {},
      "provenance": []
    },
    "kernelspec": {
      "name": "python3",
      "display_name": "Python 3"
    }
  },
  "cells": [
    {
      "metadata": {
        "id": "0G5vmtW5mx_Q",
        "colab_type": "text"
      },
      "cell_type": "markdown",
      "source": [
        ""
      ]
    },
    {
      "metadata": {
        "id": "yvsUPHPDmwug",
        "colab_type": "code",
        "colab": {
          "autoexec": {
            "startup": false,
            "wait_interval": 0
          }
        }
      },
      "cell_type": "code",
      "source": [
        "import tensorflow as tf\n",
        "import numpy as np\n",
        "import matplotlib.pyplot as plt \n"
      ],
      "execution_count": 0,
      "outputs": []
    },
    {
      "metadata": {
        "id": "PwbwNsP2m5CR",
        "colab_type": "code",
        "colab": {
          "autoexec": {
            "startup": false,
            "wait_interval": 0
          }
        }
      },
      "cell_type": "code",
      "source": [
        "x_data = np.asarray([3.3,4.4,5.5,6.71,6.93,4.168,9.779,6.182,7.59,2.167,\n",
        "                         7.042,10.791,5.313,7.997,5.654,9.27,3.1])\n",
        "y_data = np.asarray([1.7,2.76,2.09,3.19,1.694,1.573,3.366,2.596,2.53,1.221,\n",
        "                         2.827,3.465,1.65,2.904,2.42,2.94,1.3])\n",
        "m = x_data.shape[0]\n",
        "\n",
        "x_data = np.reshape(x_data,(m,1))\n",
        "y_data = np.reshape(y_data,(m,1))"
      ],
      "execution_count": 0,
      "outputs": []
    },
    {
      "metadata": {
        "id": "J_XvdauZjRFv",
        "colab_type": "code",
        "colab": {
          "autoexec": {
            "startup": false,
            "wait_interval": 0
          }
        }
      },
      "cell_type": "code",
      "source": [
        "np.random.seed(2)\n",
        "tf.set_random_seed(2)"
      ],
      "execution_count": 0,
      "outputs": []
    },
    {
      "metadata": {
        "id": "QbwvLpsy5gpn",
        "colab_type": "code",
        "colab": {
          "autoexec": {
            "startup": false,
            "wait_interval": 0
          },
          "base_uri": "https://localhost:8080/",
          "height": 351
        },
        "outputId": "60999618-1dfb-426f-d14b-8e94c98995e1",
        "executionInfo": {
          "status": "ok",
          "timestamp": 1524082768618,
          "user_tz": 360,
          "elapsed": 436,
          "user": {
            "displayName": "Esteban Guillen",
            "photoUrl": "https://lh3.googleusercontent.com/a/default-user=s128",
            "userId": "106714419202511485831"
          }
        }
      },
      "cell_type": "code",
      "source": [
        "plt.plot(x_data, y_data, 'ro', label='Data')\n",
        "\n",
        "plt.legend()\n",
        "x1,x2,y1,y2 = plt.axis()\n",
        "plt.axis((2,12,-4,6))\n",
        "plt.show()"
      ],
      "execution_count": 4,
      "outputs": [
        {
          "output_type": "display_data",
          "data": {
            "image/png": "[encoded data removed]",
            "text/plain": [
              "<matplotlib.figure.Figure at 0x7f2d4c97c0b8>"
            ]
          },
          "metadata": {
            "tags": []
          }
        }
      ]
    },
    {
      "metadata": {
        "id": "W_WGxKAam5Yc",
        "colab_type": "code",
        "colab": {
          "autoexec": {
            "startup": false,
            "wait_interval": 0
          }
        }
      },
      "cell_type": "code",
      "source": [
        "display_step = 10\n",
        "n_steps = 100    \n",
        "n_iterations = []  \n",
        "n_loss = []      \n",
        "learned_weight = []  \n",
        "learned_bias = []  "
      ],
      "execution_count": 0,
      "outputs": []
    },
    {
      "metadata": {
        "id": "jZjgiqid29Yw",
        "colab_type": "code",
        "colab": {
          "autoexec": {
            "startup": false,
            "wait_interval": 0
          }
        }
      },
      "cell_type": "code",
      "source": [
        "learning_rate = 0.001"
      ],
      "execution_count": 0,
      "outputs": []
    },
    {
      "metadata": {
        "id": "kPw0_sOY0B_I",
        "colab_type": "code",
        "colab": {
          "autoexec": {
            "startup": false,
            "wait_interval": 0
          }
        }
      },
      "cell_type": "code",
      "source": [
        "X = tf.placeholder(tf.float32, shape=(m, 1), name=\"input\") \n",
        "y = tf.placeholder(tf.float32, shape=(m,1), name=\"label\")"
      ],
      "execution_count": 0,
      "outputs": []
    },
    {
      "metadata": {
        "id": "VtZhlOoc29iw",
        "colab_type": "code",
        "colab": {
          "autoexec": {
            "startup": false,
            "wait_interval": 0
          }
        }
      },
      "cell_type": "code",
      "source": [
        "W = tf.Variable(tf.random_uniform([1], -1.0, 1.0))\n",
        "b = tf.Variable(tf.zeros([1]))"
      ],
      "execution_count": 0,
      "outputs": []
    },
    {
      "metadata": {
        "id": "f6UIs0wq29nK",
        "colab_type": "code",
        "colab": {
          "autoexec": {
            "startup": false,
            "wait_interval": 0
          }
        }
      },
      "cell_type": "code",
      "source": [
        "y_hat = W * X + b"
      ],
      "execution_count": 0,
      "outputs": []
    },
    {
      "metadata": {
        "id": "mBpdS6-U29qs",
        "colab_type": "code",
        "colab": {
          "autoexec": {
            "startup": false,
            "wait_interval": 0
          }
        }
      },
      "cell_type": "code",
      "source": [
        "loss = (1/(2*m)) * tf.reduce_sum(tf.square(y_hat - y))"
      ],
      "execution_count": 0,
      "outputs": []
    },
    {
      "metadata": {
        "id": "qsxpwfsE29tt",
        "colab_type": "code",
        "colab": {
          "autoexec": {
            "startup": false,
            "wait_interval": 0
          }
        }
      },
      "cell_type": "code",
      "source": [
        "optimizer = tf.train.GradientDescentOptimizer(learning_rate)"
      ],
      "execution_count": 0,
      "outputs": []
    },
    {
      "metadata": {
        "id": "FOgbeHMu29wW",
        "colab_type": "code",
        "colab": {
          "autoexec": {
            "startup": false,
            "wait_interval": 0
          }
        }
      },
      "cell_type": "code",
      "source": [
        "train_step = optimizer.minimize(loss)"
      ],
      "execution_count": 0,
      "outputs": []
    },
    {
      "metadata": {
        "id": "zJrm2sr729yz",
        "colab_type": "code",
        "colab": {
          "autoexec": {
            "startup": false,
            "wait_interval": 0
          },
          "base_uri": "https://localhost:8080/",
          "height": 204
        },
        "outputId": "5daf1e65-3ae5-43c7-e1f2-e8ea5349586f",
        "executionInfo": {
          "status": "ok",
          "timestamp": 1524082777330,
          "user_tz": 360,
          "elapsed": 443,
          "user": {
            "displayName": "Esteban Guillen",
            "photoUrl": "https://lh3.googleusercontent.com/a/default-user=s128",
            "userId": "106714419202511485831"
          }
        }
      },
      "cell_type": "code",
      "source": [
        "with tf.Session() as sess:\n",
        "  \n",
        "  sess.run(tf.global_variables_initializer())\n",
        "  for step in range(n_steps):\n",
        "    _, c = sess.run([train_step,loss], feed_dict={X: x_data, y: y_data})\n",
        "    \n",
        "    #Record Keeping\n",
        "    n_iterations.append(step)\n",
        "    n_loss.append(c)\n",
        "    learned_weight.append(W.eval())\n",
        "    learned_bias.append(b.eval())\n",
        "  \n",
        "    # Display logs per epoch step\n",
        "    if (step+1) % display_step == 0:\n",
        "            #c = sess.run(loss)\n",
        "            print(\"Epoch:\", '%04d' % (step+1), \"Cost=\", \"{:.9f}\".format(c), \\\n",
        "                \"W=\", sess.run(W), \"b=\", sess.run(b))\n",
        "  \n",
        "\n",
        "\n",
        "print(\"\")"
      ],
      "execution_count": 13,
      "outputs": [
        {
          "output_type": "stream",
          "text": [
            "Epoch: 0010 Cost= 1.781451106 W= [0.09888824] b= [0.02220841]\n",
            "Epoch: 0020 Cost= 0.773719907 W= [0.19392891] b= [0.03653015]\n",
            "Epoch: 0030 Cost= 0.373772442 W= [0.25375253] b= [0.04588332]\n",
            "Epoch: 0040 Cost= 0.215011865 W= [0.29139143] b= [0.05210616]\n",
            "Epoch: 0050 Cost= 0.151961699 W= [0.31505522] b= [0.05635668]\n",
            "Epoch: 0060 Cost= 0.126892388 W= [0.32991555] b= [0.05936433]\n",
            "Epoch: 0070 Cost= 0.116895162 W= [0.33923024] b= [0.06158864]\n",
            "Epoch: 0080 Cost= 0.112879105 W= [0.3450516] b= [0.0633191]\n",
            "Epoch: 0090 Cost= 0.111236721 W= [0.34867227] b= [0.06473806]\n",
            "Epoch: 0100 Cost= 0.110536389 W= [0.3509068] b= [0.06596039]\n",
            "\n"
          ],
          "name": "stdout"
        }
      ]
    },
    {
      "metadata": {
        "id": "juvNDI-Mm5gk",
        "colab_type": "code",
        "colab": {
          "autoexec": {
            "startup": false,
            "wait_interval": 0
          },
          "base_uri": "https://localhost:8080/",
          "height": 361
        },
        "outputId": "3a6e8227-f5f1-41fb-e6fd-9d9c20e56cc3",
        "executionInfo": {
          "status": "ok",
          "timestamp": 1524082779907,
          "user_tz": 360,
          "elapsed": 717,
          "user": {
            "displayName": "Esteban Guillen",
            "photoUrl": "https://lh3.googleusercontent.com/a/default-user=s128",
            "userId": "106714419202511485831"
          }
        }
      },
      "cell_type": "code",
      "source": [
        "plt.plot(n_iterations,n_loss)\n",
        "plt.ylabel('Loss')\n",
        "plt.xlabel('Iterations')\n",
        "plt.show()\n"
      ],
      "execution_count": 14,
      "outputs": [
        {
          "output_type": "display_data",
          "data": {
            "image/png": "[encoded data removed]",
            "text/plain": [
              "<matplotlib.figure.Figure at 0x7f2d4a7eb7b8>"
            ]
          },
          "metadata": {
            "tags": []
          }
        }
      ]
    },
    {
      "metadata": {
        "id": "OxU8Rjvtm5oG",
        "colab_type": "code",
        "colab": {
          "autoexec": {
            "startup": false,
            "wait_interval": 0
          },
          "base_uri": "https://localhost:8080/",
          "height": 351
        },
        "outputId": "6fce3a03-6482-49ce-8438-e735614a8eee",
        "executionInfo": {
          "status": "ok",
          "timestamp": 1524082781165,
          "user_tz": 360,
          "elapsed": 482,
          "user": {
            "displayName": "Esteban Guillen",
            "photoUrl": "https://lh3.googleusercontent.com/a/default-user=s128",
            "userId": "106714419202511485831"
          }
        }
      },
      "cell_type": "code",
      "source": [
        "plt.plot(x_data, y_data, 'ro', label='Data')\n",
        "plt.plot(x_data, learned_weight[-1] * x_data + learned_bias[-1], label='Final Fitted Model')\n",
        "plt.plot(x_data, learned_weight[0] * x_data + learned_bias[0], label='Initial Model')\n",
        "plt.plot(x_data, learned_weight[25] * x_data + learned_bias[25], label='Iteration 25 Model')\n",
        "plt.plot(x_data, learned_weight[50] * x_data + learned_bias[50], label='Iteration 50 Model')\n",
        "plt.legend()\n",
        "x1,x2,y1,y2 = plt.axis()\n",
        "plt.axis((2,12,-4,4))\n",
        "plt.show()"
      ],
      "execution_count": 15,
      "outputs": [
        {
          "output_type": "display_data",
          "data": {
            "image/png": "[encoded data removed]",
            "text/plain": [
              "<matplotlib.figure.Figure at 0x7f2d4874c7f0>"
            ]
          },
          "metadata": {
            "tags": []
          }
        }
      ]
    },
    {
      "metadata": {
        "id": "cKcobaWCm5yQ",
        "colab_type": "code",
        "colab": {
          "autoexec": {
            "startup": false,
            "wait_interval": 0
          },
          "base_uri": "https://localhost:8080/",
          "height": 51
        },
        "outputId": "95ce21c0-bda8-47d4-f374-83b265a57cbe",
        "executionInfo": {
          "status": "ok",
          "timestamp": 1524082782983,
          "user_tz": 360,
          "elapsed": 534,
          "user": {
            "displayName": "Esteban Guillen",
            "photoUrl": "https://lh3.googleusercontent.com/a/default-user=s128",
            "userId": "106714419202511485831"
          }
        }
      },
      "cell_type": "code",
      "source": [
        "x_test = 3.0\n",
        "\n",
        "y_prediction = learned_weight[-1] * x_test + learned_bias[-1]\n",
        "\n",
        "print(\"x_test=3.0\")\n",
        "print(\"Prediction for x_test: \" + str(y_prediction))"
      ],
      "execution_count": 16,
      "outputs": [
        {
          "output_type": "stream",
          "text": [
            "x_test=3.0\n",
            "Prediction for x_test: [1.1186807]\n"
          ],
          "name": "stdout"
        }
      ]
    },
    {
      "metadata": {
        "id": "BzXBaIp8xrf3",
        "colab_type": "code",
        "colab": {
          "autoexec": {
            "startup": false,
            "wait_interval": 0
          }
        }
      },
      "cell_type": "code",
      "source": [
        ""
      ],
      "execution_count": 0,
      "outputs": []
    }
  ]
}