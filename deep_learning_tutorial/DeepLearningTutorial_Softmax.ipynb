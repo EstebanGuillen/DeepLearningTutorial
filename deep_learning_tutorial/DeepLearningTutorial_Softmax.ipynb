{
  "nbformat": 4,
  "nbformat_minor": 0,
  "metadata": {
    "colab": {
      "name": "DeepLearningTutorial_Softmax.ipynb",
      "version": "0.3.2",
      "views": {},
      "default_view": {},
      "provenance": []
    },
    "kernelspec": {
      "name": "python3",
      "display_name": "Python 3"
    },
    "accelerator": "GPU"
  },
  "cells": [
    {
      "metadata": {
        "id": "WltFznLCqJS_",
        "colab_type": "text"
      },
      "cell_type": "markdown",
      "source": [
        "**Import The TensorFlow Library**"
      ]
    },
    {
      "metadata": {
        "id": "FEBRdXhyeKGp",
        "colab_type": "code",
        "colab": {
          "autoexec": {
            "startup": false,
            "wait_interval": 0
          }
        }
      },
      "cell_type": "code",
      "source": [
        "from __future__ import print_function\n",
        "\n",
        "import tensorflow as tf\n",
        "import matplotlib.pyplot as plt \n",
        "import numpy as np"
      ],
      "execution_count": 0,
      "outputs": []
    },
    {
      "metadata": {
        "id": "5LGnfPyQqEti",
        "colab_type": "text"
      },
      "cell_type": "markdown",
      "source": [
        "**Load Data**"
      ]
    },
    {
      "metadata": {
        "id": "8HoERc4NKEAB",
        "colab_type": "code",
        "colab": {
          "autoexec": {
            "startup": false,
            "wait_interval": 0
          },
          "base_uri": "https://localhost:8080/",
          "height": 85
        },
        "outputId": "d0250c55-9578-42bd-e41b-c04c50e70d0c",
        "executionInfo": {
          "status": "ok",
          "timestamp": 1524082839672,
          "user_tz": 360,
          "elapsed": 1709,
          "user": {
            "displayName": "Esteban Guillen",
            "photoUrl": "https://lh3.googleusercontent.com/a/default-user=s128",
            "userId": "106714419202511485831"
          }
        }
      },
      "cell_type": "code",
      "source": [
        "from tensorflow.examples.tutorials.mnist import input_data\n",
        "mnist = input_data.read_data_sets(\"/tmp/data/\", one_hot=True)\n"
      ],
      "execution_count": 2,
      "outputs": [
        {
          "output_type": "stream",
          "text": [
            "Extracting /tmp/data/train-images-idx3-ubyte.gz\n",
            "Extracting /tmp/data/train-labels-idx1-ubyte.gz\n",
            "Extracting /tmp/data/t10k-images-idx3-ubyte.gz\n",
            "Extracting /tmp/data/t10k-labels-idx1-ubyte.gz\n"
          ],
          "name": "stdout"
        }
      ]
    },
    {
      "metadata": {
        "id": "G6vxS1caKG4d",
        "colab_type": "code",
        "colab": {
          "autoexec": {
            "startup": false,
            "wait_interval": 0
          },
          "base_uri": "https://localhost:8080/",
          "height": 347
        },
        "outputId": "353dbf47-0066-4a9e-ab82-e0ce8117d918",
        "executionInfo": {
          "status": "ok",
          "timestamp": 1524082841530,
          "user_tz": 360,
          "elapsed": 501,
          "user": {
            "displayName": "Esteban Guillen",
            "photoUrl": "https://lh3.googleusercontent.com/a/default-user=s128",
            "userId": "106714419202511485831"
          }
        }
      },
      "cell_type": "code",
      "source": [
        "first_image = mnist.train.images[2]\n",
        "first_image = np.array(first_image, dtype='float')\n",
        "pixels = first_image.reshape((28, 28))\n",
        "plt.imshow(pixels, cmap='gray')\n",
        "plt.show()\n"
      ],
      "execution_count": 3,
      "outputs": [
        {
          "output_type": "display_data",
          "data": {
            "image/png": "[encoded data removed]",
            "text/plain": [
              "<matplotlib.figure.Figure at 0x7fc4894d2e80>"
            ]
          },
          "metadata": {
            "tags": []
          }
        }
      ]
    },
    {
      "metadata": {
        "id": "mHaUpvSyTYA0",
        "colab_type": "text"
      },
      "cell_type": "markdown",
      "source": [
        "**Hyperparameters**"
      ]
    },
    {
      "metadata": {
        "id": "ZUZyj5BMKKf6",
        "colab_type": "code",
        "colab": {
          "autoexec": {
            "startup": false,
            "wait_interval": 0
          }
        }
      },
      "cell_type": "code",
      "source": [
        "learning_rate = 0.01\n",
        "training_epochs = 20\n",
        "batch_size = 100"
      ],
      "execution_count": 0,
      "outputs": []
    },
    {
      "metadata": {
        "id": "Ba7SGvkbme4x",
        "colab_type": "text"
      },
      "cell_type": "markdown",
      "source": [
        "**Placeholders**"
      ]
    },
    {
      "metadata": {
        "id": "1SJEJST4eRk-",
        "colab_type": "code",
        "colab": {
          "autoexec": {
            "startup": false,
            "wait_interval": 0
          }
        }
      },
      "cell_type": "code",
      "source": [
        "x = tf.placeholder(tf.float32, [None, 784]) \n",
        "y = tf.placeholder(tf.float32, [None, 10]) "
      ],
      "execution_count": 0,
      "outputs": []
    },
    {
      "metadata": {
        "id": "AncS-7vYm0k7",
        "colab_type": "text"
      },
      "cell_type": "markdown",
      "source": [
        "**Variables**"
      ]
    },
    {
      "metadata": {
        "id": "k8SwSEpxeWGG",
        "colab_type": "code",
        "colab": {
          "autoexec": {
            "startup": false,
            "wait_interval": 0
          }
        }
      },
      "cell_type": "code",
      "source": [
        "W = tf.Variable(tf.zeros([784, 10]))\n",
        "b = tf.Variable(tf.zeros([10]))"
      ],
      "execution_count": 0,
      "outputs": []
    },
    {
      "metadata": {
        "id": "krJ-ynZspwXU",
        "colab_type": "text"
      },
      "cell_type": "markdown",
      "source": [
        "**Prediction**"
      ]
    },
    {
      "metadata": {
        "id": "x2U-yK2becAn",
        "colab_type": "code",
        "colab": {
          "autoexec": {
            "startup": false,
            "wait_interval": 0
          }
        }
      },
      "cell_type": "code",
      "source": [
        "y_hat = tf.nn.softmax(tf.matmul(x, W) + b) "
      ],
      "execution_count": 0,
      "outputs": []
    },
    {
      "metadata": {
        "id": "opABYx4Hqbz8",
        "colab_type": "text"
      },
      "cell_type": "markdown",
      "source": [
        "**Loss Function**"
      ]
    },
    {
      "metadata": {
        "id": "V2nLdQBnemjn",
        "colab_type": "code",
        "colab": {
          "autoexec": {
            "startup": false,
            "wait_interval": 0
          }
        }
      },
      "cell_type": "code",
      "source": [
        "loss = tf.nn.softmax_cross_entropy_with_logits_v2(logits=y_hat, labels=y)\n",
        "loss = tf.reduce_mean(loss)*100"
      ],
      "execution_count": 0,
      "outputs": []
    },
    {
      "metadata": {
        "id": "1afMZxutqthY",
        "colab_type": "text"
      },
      "cell_type": "markdown",
      "source": [
        "**Training Procedure**\n"
      ]
    },
    {
      "metadata": {
        "id": "8ILOan0HerG2",
        "colab_type": "code",
        "colab": {
          "autoexec": {
            "startup": false,
            "wait_interval": 0
          }
        }
      },
      "cell_type": "code",
      "source": [
        "optimizer = tf.train.GradientDescentOptimizer(learning_rate)\n",
        "\n",
        "train_step = optimizer.minimize(loss)"
      ],
      "execution_count": 0,
      "outputs": []
    },
    {
      "metadata": {
        "id": "DDLO4gUPK1Mc",
        "colab_type": "code",
        "colab": {
          "autoexec": {
            "startup": false,
            "wait_interval": 0
          }
        }
      },
      "cell_type": "code",
      "source": [
        "init = tf.global_variables_initializer()"
      ],
      "execution_count": 0,
      "outputs": []
    },
    {
      "metadata": {
        "id": "cLcLK9zYK4Oy",
        "colab_type": "code",
        "colab": {
          "autoexec": {
            "startup": false,
            "wait_interval": 0
          }
        }
      },
      "cell_type": "code",
      "source": [
        "correct_prediction = tf.equal(tf.argmax(y_hat,1), tf.argmax(y,1))\n",
        "accuracy = tf.reduce_mean(tf.cast(correct_prediction, tf.float32))\n"
      ],
      "execution_count": 0,
      "outputs": []
    },
    {
      "metadata": {
        "id": "pY-sMiiLnQ4k",
        "colab_type": "text"
      },
      "cell_type": "markdown",
      "source": [
        "**Train The Model**"
      ]
    },
    {
      "metadata": {
        "id": "8MzR8J41evKW",
        "colab_type": "code",
        "colab": {
          "autoexec": {
            "startup": false,
            "wait_interval": 0
          },
          "base_uri": "https://localhost:8080/",
          "height": 153
        },
        "outputId": "719e97e4-60c0-4f6e-fd1b-ab9359576310",
        "executionInfo": {
          "status": "ok",
          "timestamp": 1524082991112,
          "user_tz": 360,
          "elapsed": 125372,
          "user": {
            "displayName": "Esteban Guillen",
            "photoUrl": "https://lh3.googleusercontent.com/a/default-user=s128",
            "userId": "106714419202511485831"
          }
        }
      },
      "cell_type": "code",
      "source": [
        "print(\"\\n\")\n",
        "\n",
        "display_step = 10\n",
        "\n",
        "n_iterations = []  \n",
        "n_loss = []\n",
        "n_loss_test = []\n",
        "n_train_accuracy = []\n",
        "n_test_accuracy = []\n",
        "with tf.Session() as sess:\n",
        "\n",
        "    \n",
        "    sess.run(init)\n",
        "\n",
        "    \n",
        "    total_steps = 0;\n",
        "    for epoch in range(training_epochs):\n",
        "        avg_cost = 0.\n",
        "        avg_accuracy = 0.\n",
        "        avg_accuracy_test = 0.0\n",
        "        \n",
        "        total_batch = int(mnist.train.num_examples/batch_size)\n",
        "        \n",
        "        for i in range(total_batch):\n",
        "            total_steps = total_steps +1\n",
        "            batch_xs, batch_ys = mnist.train.next_batch(batch_size)\n",
        "            \n",
        "            #Train\n",
        "            sess.run(train_step, feed_dict={x: batch_xs, y: batch_ys})\n",
        "           \n",
        "            #Evaluate\n",
        "            train_accuracy, c = sess.run([accuracy,loss],feed_dict={x: batch_xs, y: batch_ys})\n",
        "            test_accuracy, c_test = sess.run([accuracy,loss],feed_dict={x: mnist.test.images, y: mnist.test.labels})\n",
        "            \n",
        "            \n",
        "           \n",
        "            avg_cost += c / total_batch\n",
        "            avg_accuracy += train_accuracy /total_batch\n",
        "            avg_accuracy_test += test_accuracy /total_batch\n",
        "            \n",
        "            n_iterations.append(total_steps)\n",
        "            n_loss.append(c)\n",
        "            n_loss_test.append(c_test)\n",
        "            n_train_accuracy.append(train_accuracy)\n",
        "            n_test_accuracy.append(test_accuracy)\n",
        "           \n",
        "        \n",
        "        if (epoch+1) % display_step == 0 or epoch == 0:\n",
        "            print(\"Epoch:\", '%04d' % (epoch+1), \" Cost=\", \"{:.9f}\".format(avg_cost), \" Train_Accuracy=\", \"{:.9f}\".format(avg_accuracy),\" Test_Accuracy=\", \"{:.9f}\".format(avg_accuracy_test))\n",
        "\n",
        "    print(\"Training Finished!\")\n",
        "\n",
        "    \n",
        "    final_test_accuracy = sess.run(accuracy,feed_dict={x: mnist.test.images, y: mnist.test.labels})\n",
        "    print(\"\\nTest_Accuracy:\", final_test_accuracy)"
      ],
      "execution_count": 12,
      "outputs": [
        {
          "output_type": "stream",
          "text": [
            "\n",
            "\n",
            "Epoch: 0001  Cost= 163.896602728  Train_Accuracy= 0.872072727  Test_Accuracy= 0.865299818\n",
            "Epoch: 0010  Cost= 154.204828325  Train_Accuracy= 0.930963638  Test_Accuracy= 0.925086546\n",
            "Epoch: 0020  Cost= 153.465030712  Train_Accuracy= 0.936236363  Test_Accuracy= 0.928024726\n",
            "Training Finished!\n",
            "\n",
            "Test_Accuracy: 0.9295\n"
          ],
          "name": "stdout"
        }
      ]
    },
    {
      "metadata": {
        "id": "sfSvYUZDezWd",
        "colab_type": "code",
        "colab": {
          "autoexec": {
            "startup": false,
            "wait_interval": 0
          },
          "base_uri": "https://localhost:8080/",
          "height": 361
        },
        "outputId": "baa1cf1a-3267-4761-fab1-0bdf22356556",
        "executionInfo": {
          "status": "ok",
          "timestamp": 1524082995063,
          "user_tz": 360,
          "elapsed": 775,
          "user": {
            "displayName": "Esteban Guillen",
            "photoUrl": "https://lh3.googleusercontent.com/a/default-user=s128",
            "userId": "106714419202511485831"
          }
        }
      },
      "cell_type": "code",
      "source": [
        "plt.plot(n_iterations,n_loss, label='Train Cost')\n",
        "plt.plot(n_iterations,n_loss_test, label='Test Cost')\n",
        "plt.ylabel('Loss')\n",
        "plt.xlabel('Iterations')\n",
        "plt.legend()\n",
        "plt.show()"
      ],
      "execution_count": 13,
      "outputs": [
        {
          "output_type": "display_data",
          "data": {
            "image/png": "[encoded data removed]",
            "text/plain": [
              "<matplotlib.figure.Figure at 0x7fc48740dd30>"
            ]
          },
          "metadata": {
            "tags": []
          }
        }
      ]
    },
    {
      "metadata": {
        "id": "bjKZf1H2e2DN",
        "colab_type": "code",
        "colab": {
          "autoexec": {
            "startup": false,
            "wait_interval": 0
          },
          "base_uri": "https://localhost:8080/",
          "height": 361
        },
        "outputId": "d189f809-c351-45a9-96f0-15830d78d9df",
        "executionInfo": {
          "status": "ok",
          "timestamp": 1524082996685,
          "user_tz": 360,
          "elapsed": 585,
          "user": {
            "displayName": "Esteban Guillen",
            "photoUrl": "https://lh3.googleusercontent.com/a/default-user=s128",
            "userId": "106714419202511485831"
          }
        }
      },
      "cell_type": "code",
      "source": [
        "plt.plot(n_iterations,n_train_accuracy, label='Train Accuracy')\n",
        "plt.plot(n_iterations,n_test_accuracy, label='Test Accuracy')\n",
        "plt.ylabel('Accuracy')\n",
        "plt.xlabel('Iterations')\n",
        "plt.legend()\n",
        "plt.show()"
      ],
      "execution_count": 14,
      "outputs": [
        {
          "output_type": "display_data",
          "data": {
            "image/png": "[encoded data removed]",
            "text/plain": [
              "<matplotlib.figure.Figure at 0x7fc46d8c20b8>"
            ]
          },
          "metadata": {
            "tags": []
          }
        }
      ]
    },
    {
      "metadata": {
        "id": "zbBO1CVne5BV",
        "colab_type": "code",
        "colab": {
          "autoexec": {
            "startup": false,
            "wait_interval": 0
          }
        }
      },
      "cell_type": "code",
      "source": [
        ""
      ],
      "execution_count": 0,
      "outputs": []
    },
    {
      "metadata": {
        "id": "2yEub6DcfBv9",
        "colab_type": "code",
        "colab": {
          "autoexec": {
            "startup": false,
            "wait_interval": 0
          }
        }
      },
      "cell_type": "code",
      "source": [
        ""
      ],
      "execution_count": 0,
      "outputs": []
    },
    {
      "metadata": {
        "id": "XwsqeRsBfGVO",
        "colab_type": "code",
        "colab": {
          "autoexec": {
            "startup": false,
            "wait_interval": 0
          }
        }
      },
      "cell_type": "code",
      "source": [
        ""
      ],
      "execution_count": 0,
      "outputs": []
    },
    {
      "metadata": {
        "id": "wFCh5JMsfKAU",
        "colab_type": "code",
        "colab": {
          "autoexec": {
            "startup": false,
            "wait_interval": 0
          }
        }
      },
      "cell_type": "code",
      "source": [
        ""
      ],
      "execution_count": 0,
      "outputs": []
    },
    {
      "metadata": {
        "id": "bRBNayKuI2Hh",
        "colab_type": "code",
        "colab": {
          "autoexec": {
            "startup": false,
            "wait_interval": 0
          }
        }
      },
      "cell_type": "code",
      "source": [
        ""
      ],
      "execution_count": 0,
      "outputs": []
    }
  ]
}